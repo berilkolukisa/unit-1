{
  "nbformat": 4,
  "nbformat_minor": 0,
  "metadata": {
    "colab": {
      "name": "Untitled0.ipynb",
      "provenance": [],
      "authorship_tag": "ABX9TyOHe5tiVD3pXSqLYkgk/ojk",
      "include_colab_link": true
    },
    "kernelspec": {
      "name": "python3",
      "display_name": "Python 3"
    },
    "language_info": {
      "name": "python"
    }
  },
  "cells": [
    {
      "cell_type": "markdown",
      "metadata": {
        "id": "view-in-github",
        "colab_type": "text"
      },
      "source": [
        "<a href=\"https://colab.research.google.com/github/berilkolukisa/unit-1/blob/main/Untitled0.ipynb\" target=\"_parent\"><img src=\"https://colab.research.google.com/assets/colab-badge.svg\" alt=\"Open In Colab\"/></a>"
      ]
    },
    {
      "cell_type": "code",
      "metadata": {
        "id": "WLPw_eGKK0Io",
        "colab": {
          "base_uri": "https://localhost:8080/"
        },
        "outputId": "f98cd144-69c6-494c-c345-2aec4342b8fb"
      },
      "source": [
        "#Coding exercise number 4 \n",
        "\n",
        "fahreneit_number = int( input('Please enter the number you want to convert.'))\n",
        "cel_number = ( fahreneit_number - 32 ) * 5/9\n",
        "\n",
        "print('Your number in Celcius is' , cel_number )\n",
        "\n",
        "\n",
        "\n"
      ],
      "execution_count": null,
      "outputs": [
        {
          "output_type": "stream",
          "text": [
            "Please enter the number you want to convert.32\n",
            "Your number in Celcius is 0.0\n"
          ],
          "name": "stdout"
        }
      ]
    },
    {
      "cell_type": "code",
      "metadata": {
        "id": "UEaLwhejrQuf",
        "colab": {
          "base_uri": "https://localhost:8080/"
        },
        "outputId": "6b0c1f43-141d-44f3-f7cf-5335b55ed48a"
      },
      "source": [
        "#Coding exercise number 5 \n",
        "\n",
        "miles_number = int( input('Please enter the mile number you want to convert.'))\n",
        "kilo_number = miles_number * 1609\n",
        "\n",
        "print('Your number in kilometers is' , kilo_number )"
      ],
      "execution_count": null,
      "outputs": [
        {
          "output_type": "stream",
          "text": [
            "Please enter the mile number you want to convert.1500\n",
            "Your number in kilometers is 2413500\n"
          ],
          "name": "stdout"
        }
      ]
    },
    {
      "cell_type": "code",
      "metadata": {
        "id": "Z6JDYB-UsYBa",
        "colab": {
          "base_uri": "https://localhost:8080/",
          "height": 132
        },
        "outputId": "e2ec0e39-e0f3-436b-8127-65f135d88de4"
      },
      "source": [
        "#Coding exercise number 6 \n",
        "\n",
        "equation_a = int( input('Please enter you value for a in the equation.'))\n",
        "equation_b = int( input('Please enter you value for b in the equation.'))\n",
        "equation_c = int( input('Please enter you value for c in the equation.'))\n",
        "x_number = x \n",
        "x_number = ( equation_a )x² + ( equation_b )x + ( equation_c ) = 0\n",
        "\n",
        "print('The result of your of equation is ' , x_number  )\n",
        "\n"
      ],
      "execution_count": null,
      "outputs": [
        {
          "output_type": "error",
          "ename": "SyntaxError",
          "evalue": "ignored",
          "traceback": [
            "\u001b[0;36m  File \u001b[0;32m\"<ipython-input-5-f7151d5b4ea5>\"\u001b[0;36m, line \u001b[0;32m7\u001b[0m\n\u001b[0;31m    x_number = ( equation_a )x² + ( equation_b )x + ( equation_c ) = 0\u001b[0m\n\u001b[0m                              ^\u001b[0m\n\u001b[0;31mSyntaxError\u001b[0m\u001b[0;31m:\u001b[0m invalid character in identifier\n"
          ]
        }
      ]
    },
    {
      "cell_type": "code",
      "metadata": {
        "id": "UfCVkG5-s9Gp"
      },
      "source": [
        "#Coding exercise number 7"
      ],
      "execution_count": null,
      "outputs": []
    },
    {
      "cell_type": "code",
      "metadata": {
        "id": "_tg1Ekkws9P2",
        "colab": {
          "base_uri": "https://localhost:8080/"
        },
        "outputId": "9c2aea69-8e71-4c1e-f3e3-14632e9c3a60"
      },
      "source": [
        "#Coding exercise number 8\n",
        "\n",
        "user_name = input('Please enter your name.')\n",
        "user_lastname = input('Plase enter your last name.')\n",
        "user_age = input('Plase enter your age.')\n",
        "user_nationality = input('Plase enter your natioanality.')\n",
        "\n",
        "print(f'Welcome {user_name} {user_lastname} you are {user_age} years old and a national of {user_nationality}')"
      ],
      "execution_count": null,
      "outputs": [
        {
          "output_type": "stream",
          "text": [
            "Plase enter your name.belkıs\n",
            "Plase enter your last name.kolukısa\n",
            "Plase enter your age.56\n",
            "Plase enter your natioanality.turkey\n",
            "Welcome belkıs kolukısa you are 56 years old and a national of turkey\n"
          ],
          "name": "stdout"
        }
      ]
    },
    {
      "cell_type": "code",
      "metadata": {
        "id": "p3zebrpvvRCI",
        "colab": {
          "base_uri": "https://localhost:8080/"
        },
        "outputId": "19693fa9-0813-47be-a483-d704f63a8073"
      },
      "source": [
        "#Coding exercise number 9\n",
        "\n",
        "cola  = int( input('Please enter how many glasses you drank Cola today.'))\n",
        "calorie = cola  * 64\n",
        "\n",
        "\n",
        "\n",
        "print(f'Your calorie intake today from Cola is {calorie}')"
      ],
      "execution_count": null,
      "outputs": [
        {
          "output_type": "stream",
          "text": [
            "Please enter how many glasses you drank Cola today.8\n",
            "Your calorie intake today from Cola is 512\n"
          ],
          "name": "stdout"
        }
      ]
    }
  ]
}